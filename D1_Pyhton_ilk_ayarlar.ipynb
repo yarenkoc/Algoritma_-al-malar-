{
  "nbformat": 4,
  "nbformat_minor": 0,
  "metadata": {
    "colab": {
      "provenance": []
    },
    "kernelspec": {
      "name": "python3",
      "display_name": "Python 3"
    },
    "language_info": {
      "name": "python"
    }
  },
  "cells": [
    {
      "cell_type": "code",
      "execution_count": 2,
      "metadata": {
        "colab": {
          "base_uri": "https://localhost:8080/"
        },
        "id": "rbdA9B2Cbodi",
        "outputId": "17a29bed-5eef-4e34-d5b3-1ad6337dacec"
      },
      "outputs": [
        {
          "output_type": "stream",
          "name": "stdout",
          "text": [
            "Merhaba IGU HEE Algorıitma Sınıfı\n"
          ]
        }
      ],
      "source": [
        "  print(\"Merhaba IGU HEE Algorıitma Sınıfı\") # İLK ÇIKTI\n",
        ""
      ]
    },
    {
      "cell_type": "code",
      "source": [
        "import sys # import pyhton programlama dilinde kütüphane eklemeye yarayan pyhton kodudur.\n",
        "\n",
        "print (sys.version)"
      ],
      "metadata": {
        "colab": {
          "base_uri": "https://localhost:8080/"
        },
        "id": "Bjy66ieBeegE",
        "outputId": "e55fd060-60fe-40ae-8c07-e63b7d644bd0"
      },
      "execution_count": 1,
      "outputs": [
        {
          "output_type": "stream",
          "name": "stdout",
          "text": [
            "3.10.12 (main, Sep 11 2024, 15:47:36) [GCC 11.4.0]\n"
          ]
        }
      ]
    },
    {
      "cell_type": "code",
      "source": [
        "from google.colab import drive # google colab - drive bağlantı kodudur.\n",
        "\n",
        "drive.mount ('/content/drive')"
      ],
      "metadata": {
        "colab": {
          "base_uri": "https://localhost:8080/"
        },
        "id": "mSWudor2h3kr",
        "outputId": "cc85bba8-22ee-49d2-d042-fffe0b3f8601"
      },
      "execution_count": 3,
      "outputs": [
        {
          "output_type": "stream",
          "name": "stdout",
          "text": [
            "Mounted at /content/drive\n"
          ]
        }
      ]
    },
    {
      "cell_type": "code",
      "source": [
        "import os\n",
        "\n",
        "os.chdir('/content/drive/My Drive/IGU_ALGORITMA')\n",
        "\n",
        "!pwd # bize kodun çıktısını dosya yolu olarak veren kod blogudur.\n"
      ],
      "metadata": {
        "colab": {
          "base_uri": "https://localhost:8080/"
        },
        "id": "sVp0Zp3UivlL",
        "outputId": "48f4c824-a647-4868-9749-62b3edffde44"
      },
      "execution_count": 5,
      "outputs": [
        {
          "output_type": "stream",
          "name": "stdout",
          "text": [
            "/content/drive/My Drive/IGU_ALGORITMA\n"
          ]
        }
      ]
    },
    {
      "cell_type": "markdown",
      "source": [],
      "metadata": {
        "id": "-KNPQZTmcmCb"
      }
    }
  ]
}